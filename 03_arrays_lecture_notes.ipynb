{
  "nbformat": 4,
  "nbformat_minor": 0,
  "metadata": {
    "kernelspec": {
      "display_name": "Python 3",
      "language": "python",
      "name": "python3"
    },
    "language_info": {
      "codemirror_mode": {
        "name": "ipython",
        "version": 3
      },
      "file_extension": ".py",
      "mimetype": "text/x-python",
      "name": "python",
      "nbconvert_exporter": "python",
      "pygments_lexer": "ipython3",
      "version": "3.7.4"
    },
    "colab": {
      "name": "03_arrays_lecture_notes.ipynb",
      "provenance": [],
      "collapsed_sections": [
        "I56FiSfrwPre",
        "9k1OnMMnwPsH"
      ],
      "include_colab_link": true
    }
  },
  "cells": [
    {
      "cell_type": "markdown",
      "metadata": {
        "id": "view-in-github",
        "colab_type": "text"
      },
      "source": [
        "<a href=\"https://colab.research.google.com/github/Yuxin-Ji/QTM350/blob/master/03_arrays_lecture_notes.ipynb\" target=\"_parent\"><img src=\"https://colab.research.google.com/assets/colab-badge.svg\" alt=\"Open In Colab\"/></a>"
      ]
    },
    {
      "cell_type": "markdown",
      "metadata": {
        "id": "MZJCcU--wPpR",
        "colab_type": "text"
      },
      "source": [
        "# Lists and arrays\n",
        "\n",
        "Elements of Data Science\n",
        "\n",
        "by [Allen Downey](https://allendowney.com)\n",
        "\n",
        "[MIT License](https://opensource.org/licenses/MIT)\n",
        "\n",
        "### Goals\n",
        "\n",
        "In the previous notebook we used tuples to represent latitude and longitude.  In this notebook, you'll see how to use tuples more generally to represent a sequence of values.  And we'll see two more ways to represent sequences: lists and arrays.\n",
        "\n",
        "You might wonder why we need three ways to represent the same thing.  Most of the time you don't, but each of them has different capabilities.  For work with data, we will use arrays most of the time.\n",
        "\n",
        "As an example, we will use a small dataset from an article in *The Economist* about the price of sandwiches.  It's a silly example, but we'll use it to discuss the idea of absolute and relative differences, and different ways to summarize a dataset."
      ]
    },
    {
      "cell_type": "markdown",
      "metadata": {
        "id": "ndwABJrvwPpT",
        "colab_type": "text"
      },
      "source": [
        "## Tuples\n",
        "\n",
        "A tuple is a sequence of elements.  When we use a tuple to represent latitude and longitude, the sequence only contains two elements, and they are both floating-point numbers.\n",
        "\n",
        "But in general a tuple can contain any number of elements, and the elements can be values of any type.\n",
        "\n",
        "The following is a tuple of three integers:"
      ]
    },
    {
      "cell_type": "code",
      "metadata": {
        "id": "jIVbSWsKwPpU",
        "colab_type": "code",
        "colab": {
          "base_uri": "https://localhost:8080/",
          "height": 35
        },
        "outputId": "69b7bbb2-05e4-40e4-aa62-6e2dec527b6d"
      },
      "source": [
        "1, 2, 3"
      ],
      "execution_count": null,
      "outputs": [
        {
          "output_type": "execute_result",
          "data": {
            "text/plain": [
              "(1, 2, 3)"
            ]
          },
          "metadata": {
            "tags": []
          },
          "execution_count": 1
        }
      ]
    },
    {
      "cell_type": "markdown",
      "metadata": {
        "id": "lQMQkIvzwPpY",
        "colab_type": "text"
      },
      "source": [
        "Notice that when Python displays a tuple, it puts the elements in parentheses.\n",
        "\n",
        "When you type a tuple, you can put it in parentheses if you think it is easier to read that way, but you don't have to."
      ]
    },
    {
      "cell_type": "code",
      "metadata": {
        "id": "_bX7G6MUwPpZ",
        "colab_type": "code",
        "colab": {
          "base_uri": "https://localhost:8080/",
          "height": 35
        },
        "outputId": "72521e8b-9cb9-4fe3-f76d-117c6c1b1524"
      },
      "source": [
        "(1, 2, 3)"
      ],
      "execution_count": null,
      "outputs": [
        {
          "output_type": "execute_result",
          "data": {
            "text/plain": [
              "(1, 2, 3)"
            ]
          },
          "metadata": {
            "tags": []
          },
          "execution_count": 2
        }
      ]
    },
    {
      "cell_type": "markdown",
      "metadata": {
        "id": "j_j9LZHgwPpd",
        "colab_type": "text"
      },
      "source": [
        "The elements can be any type.  Here's a tuple of strings:"
      ]
    },
    {
      "cell_type": "code",
      "metadata": {
        "id": "Uf9RZOWIwPpd",
        "colab_type": "code",
        "colab": {
          "base_uri": "https://localhost:8080/",
          "height": 35
        },
        "outputId": "5e55fe88-ec61-41b9-d988-ae758ca14afc"
      },
      "source": [
        "'Data', 'Science'"
      ],
      "execution_count": null,
      "outputs": [
        {
          "output_type": "execute_result",
          "data": {
            "text/plain": [
              "('Data', 'Science')"
            ]
          },
          "metadata": {
            "tags": []
          },
          "execution_count": 3
        }
      ]
    },
    {
      "cell_type": "markdown",
      "metadata": {
        "id": "83gWkrWbwPpi",
        "colab_type": "text"
      },
      "source": [
        "The elements don't have to be the same type.  Here's a tuple with a string, an integer, and a floating-point number."
      ]
    },
    {
      "cell_type": "code",
      "metadata": {
        "id": "wGtVwqN5wPpj",
        "colab_type": "code",
        "colab": {
          "base_uri": "https://localhost:8080/",
          "height": 35
        },
        "outputId": "fdd89243-1a6e-4db4-af64-7dca1462ffa3"
      },
      "source": [
        "'one', 2, 3.14159 "
      ],
      "execution_count": null,
      "outputs": [
        {
          "output_type": "execute_result",
          "data": {
            "text/plain": [
              "('one', 2, 3.14159)"
            ]
          },
          "metadata": {
            "tags": []
          },
          "execution_count": 4
        }
      ]
    },
    {
      "cell_type": "markdown",
      "metadata": {
        "id": "NzVUM1gTwPpn",
        "colab_type": "text"
      },
      "source": [
        "If you have a string, you can convert it to a tuple using the `tuple` function:"
      ]
    },
    {
      "cell_type": "code",
      "metadata": {
        "id": "UefBmSkjwPpo",
        "colab_type": "code",
        "colab": {
          "base_uri": "https://localhost:8080/",
          "height": 35
        },
        "outputId": "f992d522-d2a2-45a0-8bbf-cd6e532b6171"
      },
      "source": [
        "tuple('DataScience')"
      ],
      "execution_count": null,
      "outputs": [
        {
          "output_type": "execute_result",
          "data": {
            "text/plain": [
              "('D', 'a', 't', 'a', 'S', 'c', 'i', 'e', 'n', 'c', 'e')"
            ]
          },
          "metadata": {
            "tags": []
          },
          "execution_count": 5
        }
      ]
    },
    {
      "cell_type": "markdown",
      "metadata": {
        "id": "1ZCodVVxwPpr",
        "colab_type": "text"
      },
      "source": [
        "The result is a tuple of single-character strings."
      ]
    },
    {
      "cell_type": "markdown",
      "metadata": {
        "id": "xHUaa9UAwPps",
        "colab_type": "text"
      },
      "source": [
        "When you create a tuple, the parentheses are optional, but the commas are required.  So how do you think you create a tuple with a single element?  You might be tempted to write:"
      ]
    },
    {
      "cell_type": "code",
      "metadata": {
        "id": "WARR-CptwPpt",
        "colab_type": "code",
        "colab": {
          "base_uri": "https://localhost:8080/",
          "height": 35
        },
        "outputId": "dc845128-fc1a-4aab-b8af-20a92b067629"
      },
      "source": [
        "x = (5)\n",
        "x"
      ],
      "execution_count": null,
      "outputs": [
        {
          "output_type": "execute_result",
          "data": {
            "text/plain": [
              "5"
            ]
          },
          "metadata": {
            "tags": []
          },
          "execution_count": 6
        }
      ]
    },
    {
      "cell_type": "markdown",
      "metadata": {
        "id": "h8MEUhQewPpy",
        "colab_type": "text"
      },
      "source": [
        "But you will find that the result is just a number, not a tuple."
      ]
    },
    {
      "cell_type": "code",
      "metadata": {
        "id": "CbXg60JLwPpy",
        "colab_type": "code",
        "colab": {
          "base_uri": "https://localhost:8080/",
          "height": 35
        },
        "outputId": "13c05a14-4990-493e-a108-1f0dc35f2368"
      },
      "source": [
        "type(x)"
      ],
      "execution_count": null,
      "outputs": [
        {
          "output_type": "execute_result",
          "data": {
            "text/plain": [
              "int"
            ]
          },
          "metadata": {
            "tags": []
          },
          "execution_count": 7
        }
      ]
    },
    {
      "cell_type": "markdown",
      "metadata": {
        "id": "WCM-VneVwPp1",
        "colab_type": "text"
      },
      "source": [
        "To make a tuple with a single element, you need a comma:"
      ]
    },
    {
      "cell_type": "code",
      "metadata": {
        "id": "0n5uudNMwPp2",
        "colab_type": "code",
        "colab": {
          "base_uri": "https://localhost:8080/",
          "height": 35
        },
        "outputId": "e8e5094b-9fcb-4f49-892d-9c88672e6903"
      },
      "source": [
        "t = 5,\n",
        "t"
      ],
      "execution_count": null,
      "outputs": [
        {
          "output_type": "execute_result",
          "data": {
            "text/plain": [
              "(5,)"
            ]
          },
          "metadata": {
            "tags": []
          },
          "execution_count": 8
        }
      ]
    },
    {
      "cell_type": "code",
      "metadata": {
        "id": "IM4RD7aIwPp5",
        "colab_type": "code",
        "colab": {
          "base_uri": "https://localhost:8080/",
          "height": 35
        },
        "outputId": "70b567a0-67b1-47cf-a3cc-6ae7550a03f2"
      },
      "source": [
        "type(t)"
      ],
      "execution_count": null,
      "outputs": [
        {
          "output_type": "execute_result",
          "data": {
            "text/plain": [
              "tuple"
            ]
          },
          "metadata": {
            "tags": []
          },
          "execution_count": 9
        }
      ]
    },
    {
      "cell_type": "markdown",
      "metadata": {
        "id": "2kVQS8Z_wPp8",
        "colab_type": "text"
      },
      "source": [
        "## Lists\n",
        "\n",
        "Python provides another way to store a sequence of elements: a list.\n",
        "\n",
        "To create a list, you put a sequence of elements in square brackets."
      ]
    },
    {
      "cell_type": "code",
      "metadata": {
        "id": "H8gAsC9xwPp8",
        "colab_type": "code",
        "colab": {
          "base_uri": "https://localhost:8080/",
          "height": 35
        },
        "outputId": "5db723da-5719-433f-b225-0ad70fe579c5"
      },
      "source": [
        "[1, 2, 3]"
      ],
      "execution_count": null,
      "outputs": [
        {
          "output_type": "execute_result",
          "data": {
            "text/plain": [
              "[1, 2, 3]"
            ]
          },
          "metadata": {
            "tags": []
          },
          "execution_count": 10
        }
      ]
    },
    {
      "cell_type": "markdown",
      "metadata": {
        "id": "cp__tDF-wPqA",
        "colab_type": "text"
      },
      "source": [
        "Lists and tuples are very similar.  They can contain any number of elements, the elements can be any type, and the elements don't have to be the same type.\n",
        "\n",
        "The only difference is that you can modify a list; tuples are immutable (cannot be modified).  This difference will matter later, but for now we can ignore it.\n",
        "\n",
        "When you make a list, the brackets are required, but if there is a single element, you don't need a comma.  So you can make a list like this:"
      ]
    },
    {
      "cell_type": "code",
      "metadata": {
        "id": "5LqGLw4cwPqA",
        "colab_type": "code",
        "colab": {}
      },
      "source": [
        "single = [5]"
      ],
      "execution_count": null,
      "outputs": []
    },
    {
      "cell_type": "code",
      "metadata": {
        "id": "ueVySzOOwPqD",
        "colab_type": "code",
        "colab": {
          "base_uri": "https://localhost:8080/",
          "height": 35
        },
        "outputId": "a9df1c0b-d30b-49ef-e082-06ad50d2446a"
      },
      "source": [
        "type(single)"
      ],
      "execution_count": null,
      "outputs": [
        {
          "output_type": "execute_result",
          "data": {
            "text/plain": [
              "list"
            ]
          },
          "metadata": {
            "tags": []
          },
          "execution_count": 12
        }
      ]
    },
    {
      "cell_type": "markdown",
      "metadata": {
        "id": "KWKYJej5wPqH",
        "colab_type": "text"
      },
      "source": [
        "It is also possible to make a list with no elements, like this:"
      ]
    },
    {
      "cell_type": "code",
      "metadata": {
        "id": "FTUCw5YRwPqI",
        "colab_type": "code",
        "colab": {}
      },
      "source": [
        "empty = []"
      ],
      "execution_count": null,
      "outputs": []
    },
    {
      "cell_type": "code",
      "metadata": {
        "id": "t-91eUFcwPqL",
        "colab_type": "code",
        "colab": {
          "base_uri": "https://localhost:8080/",
          "height": 35
        },
        "outputId": "d8cf1488-192c-4123-9f9f-fbc9f6b1b41c"
      },
      "source": [
        "type(empty)"
      ],
      "execution_count": null,
      "outputs": [
        {
          "output_type": "execute_result",
          "data": {
            "text/plain": [
              "list"
            ]
          },
          "metadata": {
            "tags": []
          },
          "execution_count": 14
        }
      ]
    },
    {
      "cell_type": "markdown",
      "metadata": {
        "id": "e6GZ6KpawPqN",
        "colab_type": "text"
      },
      "source": [
        "The `len` function computes the length (number of elements) in a list or tuple."
      ]
    },
    {
      "cell_type": "code",
      "metadata": {
        "id": "DLDqPEuKwPqO",
        "colab_type": "code",
        "colab": {
          "base_uri": "https://localhost:8080/",
          "height": 35
        },
        "outputId": "5abd4730-395f-45f2-cbab-89b224f26363"
      },
      "source": [
        "len([1, 2, 3])"
      ],
      "execution_count": null,
      "outputs": [
        {
          "output_type": "execute_result",
          "data": {
            "text/plain": [
              "3"
            ]
          },
          "metadata": {
            "tags": []
          },
          "execution_count": 15
        }
      ]
    },
    {
      "cell_type": "code",
      "metadata": {
        "id": "4cq4VP3NwPqR",
        "colab_type": "code",
        "colab": {
          "base_uri": "https://localhost:8080/",
          "height": 35
        },
        "outputId": "ba6bde00-e26f-472d-8302-492f93b9c0c1"
      },
      "source": [
        "len(single)"
      ],
      "execution_count": null,
      "outputs": [
        {
          "output_type": "execute_result",
          "data": {
            "text/plain": [
              "1"
            ]
          },
          "metadata": {
            "tags": []
          },
          "execution_count": 16
        }
      ]
    },
    {
      "cell_type": "code",
      "metadata": {
        "id": "f9KNvfrjwPqT",
        "colab_type": "code",
        "colab": {
          "base_uri": "https://localhost:8080/",
          "height": 35
        },
        "outputId": "d15f3d03-cf2b-41c0-8f41-90d5a88b1a78"
      },
      "source": [
        "len(empty)"
      ],
      "execution_count": null,
      "outputs": [
        {
          "output_type": "execute_result",
          "data": {
            "text/plain": [
              "0"
            ]
          },
          "metadata": {
            "tags": []
          },
          "execution_count": 17
        }
      ]
    },
    {
      "cell_type": "markdown",
      "metadata": {
        "id": "ZVWnLzQTwPqW",
        "colab_type": "text"
      },
      "source": [
        "**Exercise:** Create a list with 4 elements; then use `type` to confirm that it's a list, and `len` to confirm that it has 4 elements.\n",
        "## Solution\n",
        "Let's make a list of the first four letters in the alphabet!"
      ]
    },
    {
      "cell_type": "code",
      "metadata": {
        "id": "5-m1xXbiwPqX",
        "colab_type": "code",
        "colab": {}
      },
      "source": [
        "new_list = ['a', 'b', 'c','s']"
      ],
      "execution_count": null,
      "outputs": []
    },
    {
      "cell_type": "markdown",
      "metadata": {
        "id": "cCgW2ZVkw96W",
        "colab_type": "text"
      },
      "source": [
        "Let's confirm that it is a python list."
      ]
    },
    {
      "cell_type": "code",
      "metadata": {
        "id": "D61Sq6AKwPqZ",
        "colab_type": "code",
        "colab": {
          "base_uri": "https://localhost:8080/",
          "height": 35
        },
        "outputId": "d31cfa2f-f7f2-4bbe-f036-5a5078d679f5"
      },
      "source": [
        "type(new_list)"
      ],
      "execution_count": null,
      "outputs": [
        {
          "output_type": "execute_result",
          "data": {
            "text/plain": [
              "list"
            ]
          },
          "metadata": {
            "tags": []
          },
          "execution_count": 21
        }
      ]
    },
    {
      "cell_type": "markdown",
      "metadata": {
        "id": "M8EY3fU6xGoC",
        "colab_type": "text"
      },
      "source": [
        "Finally, let's check the length, using the built-in `len` function."
      ]
    },
    {
      "cell_type": "code",
      "metadata": {
        "id": "QDbVz1nexLMi",
        "colab_type": "code",
        "colab": {
          "base_uri": "https://localhost:8080/",
          "height": 35
        },
        "outputId": "d7c812d5-10e3-4239-fa38-2a06ed0865d4"
      },
      "source": [
        "len(new_list)"
      ],
      "execution_count": null,
      "outputs": [
        {
          "output_type": "execute_result",
          "data": {
            "text/plain": [
              "4"
            ]
          },
          "metadata": {
            "tags": []
          },
          "execution_count": 22
        }
      ]
    },
    {
      "cell_type": "markdown",
      "metadata": {
        "id": "UwqbmaLFwPqe",
        "colab_type": "text"
      },
      "source": [
        "There's a lot more we could do with lists, but that's enough to get started.  In the next section, we'll use lists to store data about sandwich prices."
      ]
    },
    {
      "cell_type": "markdown",
      "metadata": {
        "id": "ac9vB7-9wPqe",
        "colab_type": "text"
      },
      "source": [
        "## Sandwiches\n",
        "\n",
        "In September 2019, *The Economist* published an article comparing sandwich prices in Boston and London: \"[Why Americans pay more for lunch than Britons do](https://www.economist.com/finance-and-economics/2019/09/07/why-americans-pay-more-for-lunch-than-britons-do)\"\n",
        "\n",
        "It includes this graph showing prices of several sandwiches in the two cities:\n",
        "\n",
        "<img src=\"https://github.com/AllenDowney/ElementsOfDataScience/raw/master/figs/20190907_FNC941.png\" width=\"400\"/>"
      ]
    },
    {
      "cell_type": "markdown",
      "metadata": {
        "id": "vWe0-b01wPqf",
        "colab_type": "text"
      },
      "source": [
        "Here are the sandwich names from the graph, as a list of strings."
      ]
    },
    {
      "cell_type": "code",
      "metadata": {
        "id": "MWx34igBwPqf",
        "colab_type": "code",
        "colab": {}
      },
      "source": [
        "name_list = ['Lobster roll',\n",
        "    'Chicken caesar',\n",
        "    'Bang bang chicken',\n",
        "    'Ham and cheese',\n",
        "    'Tuna and cucumber',\n",
        "    'Egg'\n",
        "]"
      ],
      "execution_count": null,
      "outputs": []
    },
    {
      "cell_type": "markdown",
      "metadata": {
        "id": "cU3bslcBwPqi",
        "colab_type": "text"
      },
      "source": [
        "I contacted *The Economist* to ask for the data they used to create that graph, and they were kind enough to share it with me.\n",
        "\n",
        "Here are the corresponding sandwich prices in Boston:"
      ]
    },
    {
      "cell_type": "code",
      "metadata": {
        "id": "h0U7GDVfwPqi",
        "colab_type": "code",
        "colab": {}
      },
      "source": [
        "boston_price_list = [9.99, 7.99, 7.49, 7, 6.29, 4.99]"
      ],
      "execution_count": null,
      "outputs": []
    },
    {
      "cell_type": "markdown",
      "metadata": {
        "id": "etNlgGV3wPql",
        "colab_type": "text"
      },
      "source": [
        "So the lobster roll is \\$9.99 in Boston.\n",
        "\n",
        "The egg sandwich is \\$4.99.\n",
        "\n",
        "Here are the prices in London, converted to dollars at \\$1.25 / £1."
      ]
    },
    {
      "cell_type": "code",
      "metadata": {
        "id": "DdqhNSi1wPqm",
        "colab_type": "code",
        "colab": {}
      },
      "source": [
        "london_price_list = [7.5, 5, 4.4, 5, 3.75, 2.25]"
      ],
      "execution_count": null,
      "outputs": []
    },
    {
      "cell_type": "markdown",
      "metadata": {
        "id": "EyE_y9mZwPqq",
        "colab_type": "text"
      },
      "source": [
        "Lists provide some arithmetic operators, but they might not do what you want.  For example, you can \"add\" two lists:"
      ]
    },
    {
      "cell_type": "code",
      "metadata": {
        "id": "UjNXeps-wPqq",
        "colab_type": "code",
        "colab": {
          "base_uri": "https://localhost:8080/",
          "height": 35
        },
        "outputId": "f44eb9c4-d460-4a8b-bf2b-49c52bce0e49"
      },
      "source": [
        "boston_price_list + london_price_list"
      ],
      "execution_count": null,
      "outputs": [
        {
          "output_type": "execute_result",
          "data": {
            "text/plain": [
              "[9.99, 7.99, 7.49, 7, 6.29, 4.99, 7.5, 5, 4.4, 5, 3.75, 2.25]"
            ]
          },
          "metadata": {
            "tags": []
          },
          "execution_count": 26
        }
      ]
    },
    {
      "cell_type": "markdown",
      "metadata": {
        "id": "F1DsB8BWwPqs",
        "colab_type": "text"
      },
      "source": [
        "But it concatenates the two lists, which is not very useful in this example.\n",
        "\n",
        "To compute differences between prices, you might try subtracting lists, but you would get an error."
      ]
    },
    {
      "cell_type": "code",
      "metadata": {
        "id": "NAjauiz6wPqt",
        "colab_type": "code",
        "colab": {
          "base_uri": "https://localhost:8080/",
          "height": 173
        },
        "outputId": "ce166198-ebf9-4511-8591-917210d99efc"
      },
      "source": [
        "boston_price_list - london_price_list"
      ],
      "execution_count": null,
      "outputs": [
        {
          "output_type": "error",
          "ename": "TypeError",
          "evalue": "ignored",
          "traceback": [
            "\u001b[0;31m---------------------------------------------------------------------------\u001b[0m",
            "\u001b[0;31mTypeError\u001b[0m                                 Traceback (most recent call last)",
            "\u001b[0;32m<ipython-input-27-1ff9739e4f5a>\u001b[0m in \u001b[0;36m<module>\u001b[0;34m()\u001b[0m\n\u001b[0;32m----> 1\u001b[0;31m \u001b[0mboston_price_list\u001b[0m \u001b[0;34m-\u001b[0m \u001b[0mlondon_price_list\u001b[0m\u001b[0;34m\u001b[0m\u001b[0;34m\u001b[0m\u001b[0m\n\u001b[0m",
            "\u001b[0;31mTypeError\u001b[0m: unsupported operand type(s) for -: 'list' and 'list'"
          ]
        }
      ]
    },
    {
      "cell_type": "markdown",
      "metadata": {
        "id": "4woyHTefwPqv",
        "colab_type": "text"
      },
      "source": [
        "We can solve this problem with a NumPy array."
      ]
    },
    {
      "cell_type": "markdown",
      "metadata": {
        "id": "2U8onZ-OwPqw",
        "colab_type": "text"
      },
      "source": [
        "## NumPy arrays\n",
        "\n",
        "We've already seen that the NumPy library provides math functions.  It also provides a type of sequence called an array.\n",
        "\n",
        "You can create a new array with the `np.array` function, starting with a list or tuple."
      ]
    },
    {
      "cell_type": "code",
      "metadata": {
        "id": "Xi6ZoeqhwPqw",
        "colab_type": "code",
        "colab": {}
      },
      "source": [
        "import numpy as np\n",
        "\n",
        "boston_price_array = np.array(boston_price_list)\n",
        "london_price_array = np.array(london_price_list)"
      ],
      "execution_count": null,
      "outputs": []
    },
    {
      "cell_type": "markdown",
      "metadata": {
        "id": "zfhCgwljwPqz",
        "colab_type": "text"
      },
      "source": [
        "The type of the result is `numpy.ndarray`."
      ]
    },
    {
      "cell_type": "code",
      "metadata": {
        "id": "n2x6Yi6gwPq0",
        "colab_type": "code",
        "colab": {
          "base_uri": "https://localhost:8080/",
          "height": 35
        },
        "outputId": "dd637f28-98a7-445f-a9ea-d592875b2d3a"
      },
      "source": [
        "type(boston_price_array)"
      ],
      "execution_count": null,
      "outputs": [
        {
          "output_type": "execute_result",
          "data": {
            "text/plain": [
              "numpy.ndarray"
            ]
          },
          "metadata": {
            "tags": []
          },
          "execution_count": 30
        }
      ]
    },
    {
      "cell_type": "markdown",
      "metadata": {
        "id": "1Oio6M_KwPq2",
        "colab_type": "text"
      },
      "source": [
        "The \"nd\" stands for \"n-dimensional\"; NumPy arrays can have any number of dimensions.  But for now we will work with one-dimensional sequences.\n",
        "\n",
        "If you display an array, Python displays the elements:"
      ]
    },
    {
      "cell_type": "code",
      "metadata": {
        "id": "KGx38p0PwPq3",
        "colab_type": "code",
        "colab": {
          "base_uri": "https://localhost:8080/",
          "height": 35
        },
        "outputId": "9a5ed8c4-f9a5-4a13-fd0a-60e44ecba13c"
      },
      "source": [
        "boston_price_array"
      ],
      "execution_count": null,
      "outputs": [
        {
          "output_type": "execute_result",
          "data": {
            "text/plain": [
              "array([9.99, 7.99, 7.49, 7.  , 6.29, 4.99])"
            ]
          },
          "metadata": {
            "tags": []
          },
          "execution_count": 31
        }
      ]
    },
    {
      "cell_type": "markdown",
      "metadata": {
        "id": "ndAeBBs9wPq5",
        "colab_type": "text"
      },
      "source": [
        "You can also display the \"data type\" of the array, which is the type of the elements:"
      ]
    },
    {
      "cell_type": "code",
      "metadata": {
        "id": "sA73CPvNwPq5",
        "colab_type": "code",
        "colab": {
          "base_uri": "https://localhost:8080/",
          "height": 35
        },
        "outputId": "e18dec61-bf07-4433-99b1-eece862e2912"
      },
      "source": [
        "boston_price_array.dtype"
      ],
      "execution_count": null,
      "outputs": [
        {
          "output_type": "execute_result",
          "data": {
            "text/plain": [
              "dtype('float64')"
            ]
          },
          "metadata": {
            "tags": []
          },
          "execution_count": 33
        }
      ]
    },
    {
      "cell_type": "markdown",
      "metadata": {
        "id": "tSbJLMOiwPq9",
        "colab_type": "text"
      },
      "source": [
        "`float64` means that the elements are floating-point numbers that take up 64 bits each.  You don't need to know about the storage format of these numbers, but if you are curious, [you can read about it here](https://en.wikipedia.org/wiki/Floating-point_arithmetic#Internal_representation).\n",
        "\n",
        "The elements of a NumPy array can be any type, but they all have to be the same type.\n",
        "\n",
        "Most often the elements are numbers, but you can also make an array of strings."
      ]
    },
    {
      "cell_type": "code",
      "metadata": {
        "id": "fr00ys7dwPq-",
        "colab_type": "code",
        "colab": {
          "base_uri": "https://localhost:8080/",
          "height": 54
        },
        "outputId": "9eb9c81d-6ef4-471f-e59e-208926674444"
      },
      "source": [
        "name_array = np.array(name_list)\n",
        "name_array"
      ],
      "execution_count": null,
      "outputs": [
        {
          "output_type": "execute_result",
          "data": {
            "text/plain": [
              "array(['Lobster roll', 'Chicken caesar', 'Bang bang chicken',\n",
              "       'Ham and cheese', 'Tuna and cucumber', 'Egg'], dtype='<U17')"
            ]
          },
          "metadata": {
            "tags": []
          },
          "execution_count": 34
        }
      ]
    },
    {
      "cell_type": "markdown",
      "metadata": {
        "id": "wa1IT5vGwPrA",
        "colab_type": "text"
      },
      "source": [
        "In this example, the `dtype` is `<U17`.  You don't have to understand this code, but if you are curious, the `U` indicates that the elements are Unicode strings; Unicode is the standard Python uses to represent strings.\n",
        "\n",
        "Now, here's why NumPy arrays are useful: they can do arithmetic.  For example, to compute the differences between Boston and London prices, we can write: "
      ]
    },
    {
      "cell_type": "code",
      "metadata": {
        "id": "JWo1lsShwPrB",
        "colab_type": "code",
        "colab": {
          "base_uri": "https://localhost:8080/",
          "height": 35
        },
        "outputId": "56cf3eae-537a-42fa-e4cd-39a62697ed55"
      },
      "source": [
        "differences = boston_price_array - london_price_array\n",
        "differences"
      ],
      "execution_count": null,
      "outputs": [
        {
          "output_type": "execute_result",
          "data": {
            "text/plain": [
              "array([2.49, 2.99, 3.09, 2.  , 2.54, 2.74])"
            ]
          },
          "metadata": {
            "tags": []
          },
          "execution_count": 35
        }
      ]
    },
    {
      "cell_type": "markdown",
      "metadata": {
        "id": "69VfQm-awPrE",
        "colab_type": "text"
      },
      "source": [
        "Subtraction is done \"elementwise\"; that is, NumPy lines up the two arrays and subtracts corresponding elements.  The result is a new array."
      ]
    },
    {
      "cell_type": "markdown",
      "metadata": {
        "id": "LRqfqYBMwPrF",
        "colab_type": "text"
      },
      "source": [
        "## Mean and standard deviation\n",
        "\n",
        "NumPy provides functions that compute statistical summaries like the mean: "
      ]
    },
    {
      "cell_type": "code",
      "metadata": {
        "id": "SEQyKt5ewPrG",
        "colab_type": "code",
        "colab": {
          "base_uri": "https://localhost:8080/",
          "height": 35
        },
        "outputId": "10ce663a-12f1-44f8-98f1-8b1ea75477f2"
      },
      "source": [
        "np.mean(differences)"
      ],
      "execution_count": null,
      "outputs": [
        {
          "output_type": "execute_result",
          "data": {
            "text/plain": [
              "2.6416666666666666"
            ]
          },
          "metadata": {
            "tags": []
          },
          "execution_count": 36
        }
      ]
    },
    {
      "cell_type": "markdown",
      "metadata": {
        "id": "UwuGj-T1wPrJ",
        "colab_type": "text"
      },
      "source": [
        "So we could describe the difference in prices like this: \"Sandwiches in Boston are more expensive by \\$2.64, on average\".\n",
        "\n",
        "We could also compute the means first, and then compute their difference:"
      ]
    },
    {
      "cell_type": "code",
      "metadata": {
        "id": "VpncDfp0wPrK",
        "colab_type": "code",
        "colab": {
          "base_uri": "https://localhost:8080/",
          "height": 35
        },
        "outputId": "430e2dcb-546f-42c5-9c70-95449ed37747"
      },
      "source": [
        "np.mean(boston_price_array) - np.mean(london_price_array)"
      ],
      "execution_count": null,
      "outputs": [
        {
          "output_type": "execute_result",
          "data": {
            "text/plain": [
              "2.6416666666666675"
            ]
          },
          "metadata": {
            "tags": []
          },
          "execution_count": 37
        }
      ]
    },
    {
      "cell_type": "markdown",
      "metadata": {
        "id": "6b12j2uYwPrO",
        "colab_type": "text"
      },
      "source": [
        "And that turns out to be the same thing: the difference in means is the same as the mean of the differences.\n",
        "\n",
        "As an aside, many of the NumPy functions also work with lists, so we could also do this:"
      ]
    },
    {
      "cell_type": "code",
      "metadata": {
        "id": "umAJPlhqwPrO",
        "colab_type": "code",
        "colab": {
          "base_uri": "https://localhost:8080/",
          "height": 35
        },
        "outputId": "ef9b6dbc-0985-452e-8c79-52c616b88348"
      },
      "source": [
        "np.mean(boston_price_list) - np.mean(london_price_list)"
      ],
      "execution_count": null,
      "outputs": [
        {
          "output_type": "execute_result",
          "data": {
            "text/plain": [
              "2.6416666666666675"
            ]
          },
          "metadata": {
            "tags": []
          },
          "execution_count": 38
        }
      ]
    },
    {
      "cell_type": "markdown",
      "metadata": {
        "id": "fBFrj5ztwPrT",
        "colab_type": "text"
      },
      "source": [
        "**Exercise:** Standard deviation is way to quantify the variability in a set of numbers.  The NumPy function that computes standard deviation is `np.std`.\n",
        "\n",
        "Compute the standard deviation of sandwich prices in Boston and London.  By this measure, which set of prices is more variable?\n",
        "## Solution\n",
        "Let's apply the Numpy function to get the result."
      ]
    },
    {
      "cell_type": "code",
      "metadata": {
        "id": "NEHZiqOzzdza",
        "colab_type": "code",
        "colab": {}
      },
      "source": [
        "boston_sd = np.std(boston_price_array)\n",
        "london_sd = np.std(london_price_array)"
      ],
      "execution_count": null,
      "outputs": []
    },
    {
      "cell_type": "code",
      "metadata": {
        "id": "xtJRwNuFwPrU",
        "colab_type": "code",
        "colab": {
          "base_uri": "https://localhost:8080/",
          "height": 36
        },
        "outputId": "20443cc4-75c8-4fef-b616-ea914c657d29"
      },
      "source": [
        "f\"The standard deviation of sandwich prices in Boston is {round(boston_sd,2)}\""
      ],
      "execution_count": null,
      "outputs": [
        {
          "output_type": "execute_result",
          "data": {
            "application/vnd.google.colaboratory.intrinsic+json": {
              "type": "string"
            },
            "text/plain": [
              "'The standard deviation of sandwich prices in Boston is 1.54'"
            ]
          },
          "metadata": {
            "tags": []
          },
          "execution_count": 48
        }
      ]
    },
    {
      "cell_type": "code",
      "metadata": {
        "id": "4s1HJ1cBz_e0",
        "colab_type": "code",
        "colab": {
          "base_uri": "https://localhost:8080/",
          "height": 36
        },
        "outputId": "8f02539f-4a6b-4a1d-d571-33e86035fff3"
      },
      "source": [
        "f\"The standard deviation of sandwich prices in London is {round(london_sd,2)}\""
      ],
      "execution_count": null,
      "outputs": [
        {
          "output_type": "execute_result",
          "data": {
            "application/vnd.google.colaboratory.intrinsic+json": {
              "type": "string"
            },
            "text/plain": [
              "'The standard deviation of sandwich prices in London is 1.58'"
            ]
          },
          "metadata": {
            "tags": []
          },
          "execution_count": 50
        }
      ]
    },
    {
      "cell_type": "markdown",
      "metadata": {
        "id": "QBN_Zy_A0Hzz",
        "colab_type": "text"
      },
      "source": [
        "So we see that the standard deviation of prices is higher in London."
      ]
    },
    {
      "cell_type": "markdown",
      "metadata": {
        "id": "UUL9vAyqwPrX",
        "colab_type": "text"
      },
      "source": [
        "**Exercise:** The definition of the mean, in math notation, is\n",
        "\n",
        "$\\mu = \\frac{1}{N} \\sum_i x_i$\n",
        "\n",
        "where $x$ is a sequence of elements, $x_i$ is the element with index $i$, and $N$ is the number of elements.\n",
        "\n",
        "The definition of standard deviation is\n",
        "\n",
        "$\\sigma = \\sqrt{\\frac{1}{N} \\sum_i (x_i - \\mu)^2}$\n",
        "\n",
        "Compute the standard deviation of `boston_price_list` using NumPy functions `np.mean` and `np.sqrt` and see if you get the same result as `np.std`.\n",
        "\n",
        "Note: You should do this exercise using only features we have discussed so far."
      ]
    },
    {
      "cell_type": "code",
      "metadata": {
        "id": "AdEZyCEQwPrX",
        "colab_type": "code",
        "colab": {}
      },
      "source": [
        "x = boston_price_list"
      ],
      "execution_count": null,
      "outputs": []
    },
    {
      "cell_type": "markdown",
      "metadata": {
        "id": "IeD96yyM0ale",
        "colab_type": "text"
      },
      "source": [
        "## Solution\n",
        "Let's start by storing the value of the mean as a variable `mu` and the length of the array as a variable `N`. "
      ]
    },
    {
      "cell_type": "code",
      "metadata": {
        "id": "mhjM7NiBwPra",
        "colab_type": "code",
        "colab": {}
      },
      "source": [
        "N = len(boston_price_list)\n",
        "mu = (1/N)*np.sum(boston_price_array)\n",
        "sigma_boston = np.sqrt((1/N)*np.sum(np.square(boston_price_array-mu)))  "
      ],
      "execution_count": null,
      "outputs": []
    },
    {
      "cell_type": "code",
      "metadata": {
        "id": "Aozs1cpF1Fe3",
        "colab_type": "code",
        "colab": {
          "base_uri": "https://localhost:8080/",
          "height": 35
        },
        "outputId": "047163b9-2cfe-42ac-8578-19ea56ba26cf"
      },
      "source": [
        "sigma_boston"
      ],
      "execution_count": null,
      "outputs": [
        {
          "output_type": "execute_result",
          "data": {
            "text/plain": [
              "1.5380769017040583"
            ]
          },
          "metadata": {
            "tags": []
          },
          "execution_count": 65
        }
      ]
    },
    {
      "cell_type": "code",
      "metadata": {
        "id": "c91TwfDA253f",
        "colab_type": "code",
        "colab": {
          "base_uri": "https://localhost:8080/",
          "height": 35
        },
        "outputId": "0d4090db-9f4b-439d-931b-50f5f0ba8864"
      },
      "source": [
        "np.std(boston_price_array)"
      ],
      "execution_count": null,
      "outputs": [
        {
          "output_type": "execute_result",
          "data": {
            "text/plain": [
              "1.5380769017040583"
            ]
          },
          "metadata": {
            "tags": []
          },
          "execution_count": 66
        }
      ]
    },
    {
      "cell_type": "markdown",
      "metadata": {
        "id": "U5s_yAx0wPre",
        "colab_type": "text"
      },
      "source": [
        "Note: This definition of standard deviation is sometimes called the \"population standard deviation\".  You might have seen another definition with $N-1$ in the denominator; that's the \"sample standard deviation\".  We'll use the population standard deviation for now and come back to this issue later."
      ]
    },
    {
      "cell_type": "markdown",
      "metadata": {
        "id": "I56FiSfrwPre",
        "colab_type": "text"
      },
      "source": [
        "## Absolute and relative differences\n",
        "\n",
        "In the previous section we computed \"absolute\" differences in price; that's what you get when you subtract two quantities.\n",
        "\n",
        "But often when we make this kind of comparison, we are interested in \"relative\" difference, which are differences expressed as a fraction or percentage of a quantity.\n",
        "\n",
        "Taking the lobster roll as an example, the absolute difference in price is:"
      ]
    },
    {
      "cell_type": "code",
      "metadata": {
        "id": "bQzv1348wPrf",
        "colab_type": "code",
        "colab": {}
      },
      "source": [
        "9.99 - 7.5"
      ],
      "execution_count": null,
      "outputs": []
    },
    {
      "cell_type": "markdown",
      "metadata": {
        "id": "ZiTnkUBowPri",
        "colab_type": "text"
      },
      "source": [
        "We can express that difference as a fraction of the London price, like this:"
      ]
    },
    {
      "cell_type": "code",
      "metadata": {
        "id": "DYm90HBZwPri",
        "colab_type": "code",
        "colab": {}
      },
      "source": [
        "(9.99 - 7.5) / 7.5"
      ],
      "execution_count": null,
      "outputs": []
    },
    {
      "cell_type": "markdown",
      "metadata": {
        "id": "0QgqgPH5wPrl",
        "colab_type": "text"
      },
      "source": [
        "Or as a percentage of the London price, like this:"
      ]
    },
    {
      "cell_type": "code",
      "metadata": {
        "id": "jyHYGH5GwPrm",
        "colab_type": "code",
        "colab": {}
      },
      "source": [
        "(9.99 - 7.5) / 7.5 * 100"
      ],
      "execution_count": null,
      "outputs": []
    },
    {
      "cell_type": "markdown",
      "metadata": {
        "id": "YQtg2k7fwPro",
        "colab_type": "text"
      },
      "source": [
        "So we might say that the lobster roll is 33% more expensive in Boston.\n",
        "\n",
        "But putting London in the denominator was an arbitrary choice.  We could also compute the difference as a percentage of the Boston price:"
      ]
    },
    {
      "cell_type": "code",
      "metadata": {
        "id": "sfOcEfB_wPro",
        "colab_type": "code",
        "colab": {}
      },
      "source": [
        "(9.99 - 7.5) / 9.99 * 100"
      ],
      "execution_count": null,
      "outputs": []
    },
    {
      "cell_type": "markdown",
      "metadata": {
        "id": "F3yX06R8wPrs",
        "colab_type": "text"
      },
      "source": [
        "If we do that calculation, we might say the lobster roll is 25% cheaper in London.\n",
        "\n",
        "When you read this kind of comparison, you should make sure you understand which quantity is in the denominator, and you might want to think about why that choice was made.\n",
        "\n",
        "In this example, if you want to make the difference seem bigger, you might put London prices in the denominator.\n",
        "\n",
        "Now we can use the arrays to compute all of the relative differences:"
      ]
    },
    {
      "cell_type": "code",
      "metadata": {
        "id": "mOkROmE4wPrt",
        "colab_type": "code",
        "colab": {}
      },
      "source": [
        "absolute_differences = boston_price_array - london_price_array\n",
        "absolute_differences"
      ],
      "execution_count": null,
      "outputs": []
    },
    {
      "cell_type": "code",
      "metadata": {
        "id": "iC6Hpq4RwPrv",
        "colab_type": "code",
        "colab": {}
      },
      "source": [
        "relative_differences = absolute_differences / london_price_array\n",
        "relative_differences"
      ],
      "execution_count": null,
      "outputs": []
    },
    {
      "cell_type": "code",
      "metadata": {
        "id": "Hnnkqg0jwPrx",
        "colab_type": "code",
        "colab": {}
      },
      "source": [
        "percent_differences = relative_differences * 100\n",
        "percent_differences"
      ],
      "execution_count": null,
      "outputs": []
    },
    {
      "cell_type": "markdown",
      "metadata": {
        "id": "dmg2GjHTwPrz",
        "colab_type": "text"
      },
      "source": [
        "In this example, relative differences are more variable than absolute differences.\n",
        "\n",
        "We can use `np.min` and `np.max` to compute the range of absolute differences:"
      ]
    },
    {
      "cell_type": "code",
      "metadata": {
        "id": "zawHkHTXwPrz",
        "colab_type": "code",
        "colab": {}
      },
      "source": [
        "np.min(absolute_differences), np.max(absolute_differences)"
      ],
      "execution_count": null,
      "outputs": []
    },
    {
      "cell_type": "markdown",
      "metadata": {
        "id": "-Dtox6YowPr3",
        "colab_type": "text"
      },
      "source": [
        "The differences are between 2 dollars and \\$3.10.\n",
        "\n",
        "Here is the range of percent differences:"
      ]
    },
    {
      "cell_type": "code",
      "metadata": {
        "id": "vQhtqfDtwPr5",
        "colab_type": "code",
        "colab": {}
      },
      "source": [
        "np.min(percent_differences), np.max(percent_differences)"
      ],
      "execution_count": null,
      "outputs": []
    },
    {
      "cell_type": "markdown",
      "metadata": {
        "id": "LvGluHzTwPr9",
        "colab_type": "text"
      },
      "source": [
        "The range is quite wide: the lobster roll is only 33% more expensive in Boston; the egg sandwich is 117% percent more (that is, more than twice the price)."
      ]
    },
    {
      "cell_type": "markdown",
      "metadata": {
        "id": "4Al4BxtawPr-",
        "colab_type": "text"
      },
      "source": [
        "**Exercise:** What are the percent differences if we put the Boston prices in the denominator?  What is the range of those differences?  Write a sentence that summarizes the results."
      ]
    },
    {
      "cell_type": "code",
      "metadata": {
        "id": "tjIU9N7gwPr-",
        "colab_type": "code",
        "colab": {}
      },
      "source": [
        "# Solution goes here"
      ],
      "execution_count": null,
      "outputs": []
    },
    {
      "cell_type": "code",
      "metadata": {
        "id": "vQ0dLWIjwPsB",
        "colab_type": "code",
        "colab": {}
      },
      "source": [
        "# Solution goes here"
      ],
      "execution_count": null,
      "outputs": []
    },
    {
      "cell_type": "code",
      "metadata": {
        "id": "aYbCmNWKwPsE",
        "colab_type": "code",
        "colab": {}
      },
      "source": [
        "# Solution goes here"
      ],
      "execution_count": null,
      "outputs": []
    },
    {
      "cell_type": "markdown",
      "metadata": {
        "id": "9k1OnMMnwPsH",
        "colab_type": "text"
      },
      "source": [
        "## Summarizing relative differences\n",
        "\n",
        "Because the range of relative differences is wide, it is not clear how we should best summarize it.  One option is the mean of the percent differences:"
      ]
    },
    {
      "cell_type": "code",
      "metadata": {
        "id": "mK2jpp_9wPsH",
        "colab_type": "code",
        "colab": {}
      },
      "source": [
        "np.mean(percent_differences)"
      ],
      "execution_count": null,
      "outputs": []
    },
    {
      "cell_type": "markdown",
      "metadata": {
        "id": "jjiNu80iwPsJ",
        "colab_type": "text"
      },
      "source": [
        "So we might say, on average, sandwiches are 65% more expensive in Boston.\n",
        "\n",
        "But another way to summarize the data is to compute the mean price in each city, and then compute the percentage difference of the means:"
      ]
    },
    {
      "cell_type": "code",
      "metadata": {
        "id": "haSU9BB1wPsK",
        "colab_type": "code",
        "colab": {}
      },
      "source": [
        "boston_mean = np.mean(boston_price_array)\n",
        "london_mean = np.mean(london_price_array)\n",
        "\n",
        "(boston_mean - london_mean) / london_mean * 100"
      ],
      "execution_count": null,
      "outputs": []
    },
    {
      "cell_type": "markdown",
      "metadata": {
        "id": "XTfZJ8JLwPsM",
        "colab_type": "text"
      },
      "source": [
        "So we might say that the average sandwich price is 56% higher in Boston.\n",
        "\n",
        "As this example demonstrates:\n",
        "\n",
        "* With relative and percentage differences, the mean of the differences is not the same as the difference of the means.\n",
        "\n",
        "* When you report data like this, you should think about different ways to summarize the data.\n",
        "\n",
        "* When you read a summary of data like this, make sure you understand what summary was chosen and what it means.\n",
        "\n",
        "In this example, I think the second option (the relative difference in the means) is more meaningful, because it reflects the difference in price between \"baskets of goods\" that include one of each sandwich."
      ]
    },
    {
      "cell_type": "markdown",
      "metadata": {
        "id": "A_KInj5kwPsN",
        "colab_type": "text"
      },
      "source": [
        "## Debugging\n",
        "\n",
        "So far, most of the exercises have only required a few lines of code.  If you made errors along the way, you probably found them quickly.\n",
        "\n",
        "As we go along, the exercises will be more substantial, and you may find yourself spending more time debugging.  Here are a couple of suggestions to help you find errors quickly -- and avoid them in the first place.\n",
        "\n",
        "Most importantly, you should develop code incrementally; that is, you should write a small amount of code and test it.  If it works, add more code; otherwise, debug what you have.\n",
        "\n",
        "Conversely, if you have written too much code, and you are having a hard time debugging it, split it into smaller chunks and debug them separately.\n",
        "\n",
        "For example, suppose you want to compute, for each sandwich in the sandwich list, the midpoint of the Boston and London prices.  As a first draft, you might write something like this:"
      ]
    },
    {
      "cell_type": "code",
      "metadata": {
        "id": "9ypci13NwPsN",
        "colab_type": "code",
        "colab": {}
      },
      "source": [
        "boston_price_list = [9.99, 7.99, 7.49, 7, 6.29, 4.99]\n",
        "london_price_list = [7.5, 5, 4.4, 5, 3.75, 2.25]\n",
        "\n",
        "midpoint_price = np.mean(boston_price_list + london_price_list)\n",
        "midpoint_price"
      ],
      "execution_count": null,
      "outputs": []
    },
    {
      "cell_type": "markdown",
      "metadata": {
        "id": "RE0Nx6iIwPsP",
        "colab_type": "text"
      },
      "source": [
        "This code runs, and it produces an answer, but the answer is not what we expect.  In fact, it's not easy to figure out where that number came from.\n",
        "\n",
        "To debug this code, I would start by splitting the computation into smaller steps and displaying the intermediate results.  For example, we might add the two lists and display the result, like this."
      ]
    },
    {
      "cell_type": "code",
      "metadata": {
        "id": "PxEtk-wCwPsP",
        "colab_type": "code",
        "colab": {}
      },
      "source": [
        "total_price = boston_price_list + london_price_list\n",
        "total_price"
      ],
      "execution_count": null,
      "outputs": []
    },
    {
      "cell_type": "markdown",
      "metadata": {
        "id": "v9_ObL3QwPsR",
        "colab_type": "text"
      },
      "source": [
        "Looking at the result, we see that it did not add the sandwich prices elementwise, as we intended.  Because the arguments are lists, the `+` operator concatenates them rather than adding the elements.\n",
        "\n",
        "We can solve this problem by converting the lists to arrays."
      ]
    },
    {
      "cell_type": "code",
      "metadata": {
        "id": "RqczxvnTwPsR",
        "colab_type": "code",
        "colab": {}
      },
      "source": [
        "boston_price_array = np.array(boston_price_list)\n",
        "london_price_array = np.array(london_price_list)\n",
        "\n",
        "total_price_array = boston_price_array + london_price_array\n",
        "total_price_array"
      ],
      "execution_count": null,
      "outputs": []
    },
    {
      "cell_type": "code",
      "metadata": {
        "id": "rz37Q4MFwPsT",
        "colab_type": "code",
        "colab": {}
      },
      "source": [
        "midpoint_price_array = total_price_array / 2\n",
        "midpoint_price_array"
      ],
      "execution_count": null,
      "outputs": []
    },
    {
      "cell_type": "markdown",
      "metadata": {
        "id": "hvK0EinIwPsV",
        "colab_type": "text"
      },
      "source": [
        "As you gain experience, you will be able to write bigger chunks of code before testing.  But while you are getting started, keep it simple!\n",
        "\n",
        "As a general rule, each line of code should perform a small number of operations, often one.  And each cell should contain a small number of statements, often one."
      ]
    },
    {
      "cell_type": "code",
      "metadata": {
        "id": "R7kI28nMwPsV",
        "colab_type": "code",
        "colab": {}
      },
      "source": [
        ""
      ],
      "execution_count": null,
      "outputs": []
    }
  ]
}